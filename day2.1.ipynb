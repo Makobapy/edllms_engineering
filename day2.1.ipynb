{
 "cells": [
  {
   "cell_type": "code",
   "execution_count": 4,
   "id": "70c5041b-47b0-440f-9019-3bb7776021c9",
   "metadata": {},
   "outputs": [],
   "source": [
    "import os\n",
    "import requests\n",
    "from bs4 import BeautifulSoup\n",
    "from IPython.display import Markdown,display\n",
    "from openai import OpenAI"
   ]
  },
  {
   "cell_type": "code",
   "execution_count": 5,
   "id": "09683052-84f2-48bb-b280-25aa6838c44c",
   "metadata": {},
   "outputs": [],
   "source": [
    "OLLAMA_API=\"http://localhost:11434/api/chat\"\n",
    "HEADER={\"Content_Type\":\"application/json\"}\n",
    "MODEL=\"llama3.2\""
   ]
  },
  {
   "cell_type": "code",
   "execution_count": 6,
   "id": "36757675-a24d-4701-bfc9-be8a09f2a535",
   "metadata": {},
   "outputs": [],
   "source": [
    "messages=[{\"role\":\"user\",\"content\":\"Design a simple chatbot of a business customer transactions\"}]\n",
    "\n",
    "payload={\n",
    "    \"model\":MODEL,\n",
    "    \"message\":messages,\n",
    "    \"streams\":False\n",
    "}\n"
   ]
  },
  {
   "cell_type": "code",
   "execution_count": null,
   "id": "05e70390-e91c-4d26-b17b-487d14eaec96",
   "metadata": {},
   "outputs": [],
   "source": [
    "ollama_via_openai = OpenAI(base_url='http://localhost:11434/v1',api_key='ollama')\n",
    "response=ollama_via_openai.chat.completions.create(model=MODEL , messages=messages)\n",
    "print(response.choices[0].message.content)"
   ]
  },
  {
   "cell_type": "code",
   "execution_count": null,
   "id": "f4568e18-3061-4577-8483-9470a1df61a3",
   "metadata": {},
   "outputs": [],
   "source": [
    "print(display(Markdown(response)))"
   ]
  }
 ],
 "metadata": {
  "kernelspec": {
   "display_name": "edllms (conda)",
   "language": "python",
   "name": "edllms"
  },
  "language_info": {
   "codemirror_mode": {
    "name": "ipython",
    "version": 3
   },
   "file_extension": ".py",
   "mimetype": "text/x-python",
   "name": "python",
   "nbconvert_exporter": "python",
   "pygments_lexer": "ipython3",
   "version": "3.12.9"
  }
 },
 "nbformat": 4,
 "nbformat_minor": 5
}
