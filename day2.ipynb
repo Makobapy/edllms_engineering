{
 "cells": [
  {
   "cell_type": "code",
   "execution_count": 1,
   "id": "47219057-cbad-45d8-a1ae-7f818af695e0",
   "metadata": {},
   "outputs": [
    {
     "name": "stdout",
     "output_type": "stream",
     "text": [
      "\u001b[?25lpulling manifest ⠋ \u001b[?25h\u001b[?25l\u001b[2K\u001b[1Gpulling manifest ⠙ \u001b[?25h\u001b[?25l\u001b[2K\u001b[1Gpulling manifest ⠹ \u001b[?25h\u001b[?25l\u001b[2K\u001b[1Gpulling manifest ⠸ \u001b[?25h\u001b[?25l\u001b[2K\u001b[1Gpulling manifest ⠼ \u001b[?25h\u001b[?25l\u001b[2K\u001b[1Gpulling manifest ⠴ \u001b[?25h\u001b[?25l\u001b[2K\u001b[1Gpulling manifest ⠦ \u001b[?25h\u001b[?25l\u001b[2K\u001b[1Gpulling manifest ⠧ \u001b[?25h\u001b[?25l\u001b[2K\u001b[1Gpulling manifest ⠇ \u001b[?25h\u001b[?25l\u001b[2K\u001b[1Gpulling manifest ⠏ \u001b[?25h\u001b[?25l\u001b[2K\u001b[1Gpulling manifest \n",
      "pulling dde5aa3fc5ff... 100% ▕████████████████▏ 2.0 GB                         \n",
      "pulling 966de95ca8a6... 100% ▕████████████████▏ 1.4 KB                         \n",
      "pulling fcc5a6bec9da... 100% ▕████████████████▏ 7.7 KB                         \n",
      "pulling a70ff7e570d9... 100% ▕████████████████▏ 6.0 KB                         \n",
      "pulling 56bb8bd477a5... 100% ▕████████████████▏   96 B                         \n",
      "pulling 34bb5ab01051... 100% ▕████████████████▏  561 B                         \n",
      "verifying sha256 digest \n",
      "writing manifest \n",
      "success \u001b[?25h\n",
      "Generative AI has numerous business applications across various industries, including:\n",
      "\n",
      "1. **Content Creation**: Generative AI can be used to generate high-quality content such as articles, blog posts, product descriptions, and social media posts. This can help businesses save time and resources, while also increasing the quality and consistency of their content.\n",
      "2. **Marketing and Advertising**: Generative AI can be used to create personalized marketing campaigns, generating targeted ads and promotional materials based on customer data and preferences.\n",
      "3. **Product Design and Development**: Generative AI can be used to design and develop new products, such as 3D models, product prototypes, and packaging designs. This can help businesses reduce the time and cost associated with traditional product development methods.\n",
      "4. **Customer Service and Support**: Generative AI can be used to generate responses to customer inquiries, providing personalized support and improving customer satisfaction.\n",
      "5. **Data Analysis and Visualization**: Generative AI can be used to analyze large datasets and generate visualizations that help businesses understand complex data patterns and trends.\n",
      "6. **Supply Chain Optimization**: Generative AI can be used to optimize supply chain operations, predicting demand, managing inventory, and identifying potential bottlenecks.\n",
      "7. **Financial Modeling and Forecasting**: Generative AI can be used to generate financial models and forecasts, helping businesses make informed investment decisions and predict future revenue.\n",
      "8. **Human Resources and Talent Management**: Generative AI can be used to analyze employee data and generate personalized talent development plans, improving employee engagement and retention.\n",
      "9. **Cybersecurity Threat Detection**: Generative AI can be used to detect and respond to cybersecurity threats in real-time, helping businesses stay ahead of emerging threats.\n",
      "10. **Education and Training**: Generative AI can be used to create personalized learning experiences for students, generating customized educational content and adapting to individual learning styles.\n",
      "\n",
      "Some examples of companies using Generative AI include:\n",
      "\n",
      "* **Amazon**: Using Generative AI to generate product descriptions and ads\n",
      "* **Microsoft**: Using Generative AI to optimize supply chain operations and predict demand\n",
      "* **PepsiCo**: Using Generative AI to create personalized marketing campaigns and content\n",
      "* **Google**: Using Generative AI to improve search results and provide more relevant advertising\n",
      "\n",
      "These are just a few examples of the many business applications of Generative AI. As the technology continues to evolve, we can expect to see even more innovative uses in various industries.\n"
     ]
    }
   ],
   "source": [
    "import os\n",
    "import requests\n",
    "from bs4 import BeautifulSoup\n",
    "from IPython.display import Markdown,display\n",
    "\n",
    "!ollama pull llama3.2\n",
    "\n",
    "OLLAMA_API = \"http://localhost:11434/api/chat\"\n",
    "HEADER={\"Content-Type\":\"application/json\"}\n",
    "MODEL=\"llama3.2\"\n",
    "\n",
    "messages=[{\"role\":\"user\" ,\n",
    "           \"content\":\"Describe some of the business applications of Generative AI \"}]\n",
    "#esign a simple generative report on business and marketing for food products and beverages\n",
    "payload={\n",
    "    \"model\":MODEL,\n",
    "    \"messages\":messages,\n",
    "    \"stream\":False\n",
    "}\n",
    "\n",
    "response=requests.post(OLLAMA_API ,json=payload, headers=HEADER)\n",
    "print(response.json()['message']['content'])\n",
    "\n",
    "    "
   ]
  },
  {
   "cell_type": "code",
   "execution_count": 3,
   "id": "fc0f6207-b2ee-4e8e-ae9b-2bc673fbaca5",
   "metadata": {},
   "outputs": [
    {
     "name": "stdout",
     "output_type": "stream",
     "text": [
      "\u001b[?25lpulling manifest ⠋ \u001b[?25h\u001b[?25l\u001b[2K\u001b[1Gpulling manifest ⠙ \u001b[?25h\u001b[?25l\u001b[2K\u001b[1Gpulling manifest ⠹ \u001b[?25h\u001b[?25l\u001b[2K\u001b[1Gpulling manifest ⠸ \u001b[?25h\u001b[?25l\u001b[2K\u001b[1Gpulling manifest ⠼ \u001b[?25h\u001b[?25l\u001b[2K\u001b[1Gpulling manifest ⠴ \u001b[?25h\u001b[?25l\u001b[2K\u001b[1Gpulling manifest ⠦ \u001b[?25h\u001b[?25l\u001b[2K\u001b[1Gpulling manifest ⠧ \u001b[?25h\u001b[?25l\u001b[2K\u001b[1Gpulling manifest ⠇ \u001b[?25h\u001b[?25l\u001b[2K\u001b[1Gpulling manifest ⠏ \u001b[?25h\u001b[?25l\u001b[2K\u001b[1Gpulling manifest ⠋ \u001b[?25h\u001b[?25l\u001b[2K\u001b[1Gpulling manifest ⠙ \u001b[?25h\u001b[?25l\u001b[2K\u001b[1Gpulling manifest ⠹ \u001b[?25h\u001b[?25l\u001b[2K\u001b[1Gpulling manifest ⠸ \u001b[?25h\u001b[?25l\u001b[2K\u001b[1Gpulling manifest ⠼ \u001b[?25h\u001b[?25l\u001b[2K\u001b[1Gpulling manifest ⠴ \u001b[?25h\u001b[?25l\u001b[2K\u001b[1Gpulling manifest ⠦ \u001b[?25h\u001b[?25l\u001b[2K\u001b[1Gpulling manifest ⠧ \u001b[?25h\u001b[?25l\u001b[2K\u001b[1Gpulling manifest ⠇ \u001b[?25h\u001b[?25l\u001b[2K\u001b[1Gpulling manifest ⠏ \u001b[?25h\u001b[?25l\u001b[2K\u001b[1Gpulling manifest ⠋ \u001b[?25h\u001b[?25l\u001b[2K\u001b[1Gpulling manifest \n",
      "pulling dde5aa3fc5ff... 100% ▕████████████████▏ 2.0 GB                         \n",
      "pulling 966de95ca8a6... 100% ▕████████████████▏ 1.4 KB                         \n",
      "pulling fcc5a6bec9da... 100% ▕████████████████▏ 7.7 KB                         \n",
      "pulling a70ff7e570d9... 100% ▕████████████████▏ 6.0 KB                         \n",
      "pulling 56bb8bd477a5... 100% ▕████████████████▏   96 B                         \n",
      "pulling 34bb5ab01051... 100% ▕████████████████▏  561 B                         \n",
      "verifying sha256 digest \n",
      "writing manifest \n",
      "success \u001b[?25h\n"
     ]
    }
   ],
   "source": [
    "!ollama pull llama3.2"
   ]
  },
  {
   "cell_type": "code",
   "execution_count": 5,
   "id": "53dd19e7-9ee5-43a4-a9ad-ac4c2d3b11c8",
   "metadata": {},
   "outputs": [
    {
     "name": "stdout",
     "output_type": "stream",
     "text": [
      "Collecting ollama\n",
      "  Using cached ollama-0.4.7-py3-none-any.whl.metadata (4.7 kB)\n",
      "Requirement already satisfied: httpx<0.29,>=0.27 in /home/makobahakimi/anaconda3/envs/edllms/lib/python3.12/site-packages (from ollama) (0.27.0)\n",
      "Requirement already satisfied: pydantic<3.0.0,>=2.9.0 in /home/makobahakimi/anaconda3/envs/edllms/lib/python3.12/site-packages (from ollama) (2.10.6)\n",
      "Requirement already satisfied: anyio in /home/makobahakimi/anaconda3/envs/edllms/lib/python3.12/site-packages (from httpx<0.29,>=0.27->ollama) (4.6.2)\n",
      "Requirement already satisfied: certifi in /home/makobahakimi/anaconda3/envs/edllms/lib/python3.12/site-packages (from httpx<0.29,>=0.27->ollama) (2025.1.31)\n",
      "Requirement already satisfied: httpcore==1.* in /home/makobahakimi/anaconda3/envs/edllms/lib/python3.12/site-packages (from httpx<0.29,>=0.27->ollama) (1.0.2)\n",
      "Requirement already satisfied: idna in /home/makobahakimi/anaconda3/envs/edllms/lib/python3.12/site-packages (from httpx<0.29,>=0.27->ollama) (3.7)\n",
      "Requirement already satisfied: sniffio in /home/makobahakimi/anaconda3/envs/edllms/lib/python3.12/site-packages (from httpx<0.29,>=0.27->ollama) (1.3.0)\n",
      "Requirement already satisfied: h11<0.15,>=0.13 in /home/makobahakimi/anaconda3/envs/edllms/lib/python3.12/site-packages (from httpcore==1.*->httpx<0.29,>=0.27->ollama) (0.14.0)\n",
      "Requirement already satisfied: annotated-types>=0.6.0 in /home/makobahakimi/anaconda3/envs/edllms/lib/python3.12/site-packages (from pydantic<3.0.0,>=2.9.0->ollama) (0.7.0)\n",
      "Requirement already satisfied: pydantic-core==2.27.2 in /home/makobahakimi/anaconda3/envs/edllms/lib/python3.12/site-packages (from pydantic<3.0.0,>=2.9.0->ollama) (2.27.2)\n",
      "Requirement already satisfied: typing-extensions>=4.12.2 in /home/makobahakimi/anaconda3/envs/edllms/lib/python3.12/site-packages (from pydantic<3.0.0,>=2.9.0->ollama) (4.12.2)\n",
      "Using cached ollama-0.4.7-py3-none-any.whl (13 kB)\n",
      "Installing collected packages: ollama\n",
      "Successfully installed ollama-0.4.7\n"
     ]
    }
   ],
   "source": [
    "!pip install ollama"
   ]
  },
  {
   "cell_type": "code",
   "execution_count": 6,
   "id": "ffbe1016-139e-4e56-9052-582434638172",
   "metadata": {},
   "outputs": [
    {
     "name": "stdout",
     "output_type": "stream",
     "text": [
      "Generative AI has numerous business applications across various industries, including:\n",
      "\n",
      "1. **Content Creation**: AI-powered tools can generate high-quality content such as articles, social media posts, product descriptions, and more. This can help businesses save time and effort while maintaining consistency in their content.\n",
      "2. **Marketing Automation**: Generative AI can be used to personalize marketing messages, create targeted ads, and even generate email campaigns. This can lead to increased engagement and conversion rates.\n",
      "3. **Product Design**: AI-powered design tools can generate 2D and 3D designs for products, packaging, and even entire product lines. This can help businesses accelerate their product development process and reduce costs.\n",
      "4. **Customer Service**: Generative AI can be used to create chatbots that can respond to customer inquiries, provide support, and even resolve issues on behalf of human customer service agents.\n",
      "5. **Sales and Lead Generation**: AI-powered tools can analyze large datasets and generate high-quality sales leads, helping businesses identify new opportunities and close deals more efficiently.\n",
      "6. **Data Analysis**: Generative AI can be used to analyze vast amounts of data, identify patterns, and make predictions about future trends. This can help businesses make more informed decisions and stay ahead of the competition.\n",
      "7. **Audio and Video Editing**: AI-powered tools can automate tasks such as audio and video editing, allowing businesses to create high-quality content faster and more efficiently.\n",
      "8. **Image and Graphics Generation**: Generative AI can be used to create high-quality images and graphics for marketing materials, social media, and other visual content.\n",
      "9. **Supply Chain Optimization**: AI-powered tools can analyze supply chain data and generate predictions about demand, inventory levels, and shipping times. This can help businesses optimize their supply chains and reduce costs.\n",
      "10. **Predictive Maintenance**: Generative AI can be used to predict equipment failures, reducing downtime and increasing overall efficiency in industries such as manufacturing, logistics, and energy.\n",
      "11. **Financial Analysis**: AI-powered tools can analyze financial data, identify trends, and make predictions about future market performance. This can help businesses make more informed investment decisions and stay ahead of the competition.\n",
      "12. **Human Resources**: Generative AI can be used to automate tasks such as recruitment, talent acquisition, and employee onboarding, helping businesses streamline their HR processes and improve productivity.\n",
      "\n",
      "These are just a few examples of the many business applications of Generative AI. As the technology continues to evolve, we can expect to see even more innovative use cases emerge across various industries.\n"
     ]
    }
   ],
   "source": [
    "import ollama\n",
    "\n",
    "response=ollama.chat(model=MODEL , messages=messages)\n",
    "print(response['message']['content'])"
   ]
  },
  {
   "cell_type": "code",
   "execution_count": null,
   "id": "2efc0eb2-f29f-43a3-b10a-8e2f5b4b0a79",
   "metadata": {},
   "outputs": [],
   "source": []
  }
 ],
 "metadata": {
  "kernelspec": {
   "display_name": "edllms (conda)",
   "language": "python",
   "name": "edllms"
  },
  "language_info": {
   "codemirror_mode": {
    "name": "ipython",
    "version": 3
   },
   "file_extension": ".py",
   "mimetype": "text/x-python",
   "name": "python",
   "nbconvert_exporter": "python",
   "pygments_lexer": "ipython3",
   "version": "3.12.9"
  }
 },
 "nbformat": 4,
 "nbformat_minor": 5
}
