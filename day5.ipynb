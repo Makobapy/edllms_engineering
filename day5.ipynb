{
 "cells": [
  {
   "cell_type": "code",
   "execution_count": 1,
   "id": "2c731856-4d2d-4a6b-8bda-b1f5921d66b9",
   "metadata": {},
   "outputs": [
    {
     "data": {
      "text/markdown": [],
      "text/plain": [
       "<IPython.core.display.Markdown object>"
      ]
     },
     "metadata": {},
     "output_type": "display_data"
    }
   ],
   "source": [
    "\n",
    "import os\n",
    "import requests\n",
    "from dotenv import load_dotenv\n",
    "from bs4 import BeautifulSoup\n",
    "from IPython.display import Markdown,display\n",
    "from openai import OpenAI\n",
    "from typing import Dict, List, Optional\n",
    "\n",
    "class WebsiteAnalyzer:\n",
    "    def __init__(self, ollama_url: str = \"http://localhost:11434\"):\n",
    "        \"\"\"Initialize the analyzer with Ollama endpoint.\"\"\"\n",
    "        self.ollama_url = ollama_url.rstrip('/')\n",
    "        self.headers = {\n",
    "            \"User-Agent\": \"Mozilla/5.0 (X11; Linux x86_64) AppleWebKit/537.36 \"\n",
    "                         \"(KHTML, like Gecko) Chrome/133.0.0.0 Safari/537.36\"\n",
    "        }\n",
    "    def _fetch_website_content(self, url: str) -> tuple[str, str]:\n",
    "        \"\"\"Fetch website content and return title and text.\"\"\"\n",
    "        response = requests.get(url, headers=self.headers)\n",
    "        soup = BeautifulSoup(response.content, 'html.parser')\n",
    "        \n",
    "        title = soup.title.string if soup.title else \"No title found\"\n",
    "        \n",
    "        # Remove unnecessary elements\n",
    "        for tag in soup.find_all(['script', 'style', 'img']):\n",
    "            tag.decompose()\n",
    "        \n",
    "        text = soup.body.get_text(separator=\"\\n\", strip=True) if soup.body else \"\"\n",
    "        return title, text\n",
    "    def _create_messages(self, title: str, text: str) -> List[Dict[str, str]]:\n",
    "        \"\"\"Create message structure for Ollama.\"\"\"\n",
    "        return [\n",
    "            {\n",
    "                \"role\": \"user\",\n",
    "                \"content\": f\"The generated title is {title}\\n\"\n",
    "                          \"retrieve all the necessary information creating a summary of the important notes \\n\"\n",
    "                          \"with all the necessary contact information of each summarised sector \\n\"\n",
    "                          \"an easy means of how to make events in calendar \\n\"\n",
    "                          f\"{text}\"\n",
    "            },\n",
    "            {\n",
    "                \"role\": \"system\",\n",
    "                \"content\": \"i need your help in categorising the website of the industrial sector \"\n",
    "                          \"basing on its sectors and all its involved in\"\n",
    "            }\n",
    "        ]\n",
    "    def analyze_website(self, url: str) -> str:\n",
    "        \"\"\"Analyze website content using Ollama.\"\"\"\n",
    "        # Fetch website content\n",
    "        title, text = self._fetch_website_content(url)\n",
    "        \n",
    "        # Prepare the request to Ollama\n",
    "        messages = self._create_messages(title, text)\n",
    "        payload = {\n",
    "            \"model\": \"llama3.2\",\n",
    "            \"messages\": messages,\n",
    "            \"stream\": False\n",
    "        }\n",
    "        \n",
    "        # Make request to Ollama\n",
    "        response = requests.post(\n",
    "            f\"{self.ollama_url}/api/chat\",\n",
    "            json=payload,\n",
    "            headers={\"Content-Type\": \"application/json\"}\n",
    "        )\n",
    "        \n",
    "        # Parse response\n",
    "        result = response.json()\n",
    "        content = result.get(\"message\", {}).get(\"content\", \"No response from model\")\n",
    "        \n",
    "        # Display in notebook if possible\n",
    "        try:\n",
    "            display(Markdown(content))\n",
    "        except:\n",
    "            print(content)\n",
    "        \n",
    "        return content\n",
    "def analyze_site(url: str) -> str:\n",
    "    \"\"\"Convenience function to analyze a website.\"\"\"\n",
    "    analyzer = WebsiteAnalyzer()\n",
    "    return analyzer.analyze_website(url)\n",
    "# Example usage\n",
    "if __name__ == \"__main__\":\n",
    "    result = analyze_site(\"https://edwarddonner.com\")"
   ]
  },
  {
   "cell_type": "code",
   "execution_count": null,
   "id": "61e284ff-2f6b-443f-92c3-ef9f636271b3",
   "metadata": {},
   "outputs": [],
   "source": []
  }
 ],
 "metadata": {
  "kernelspec": {
   "display_name": "edllms (conda)",
   "language": "python",
   "name": "edllms"
  },
  "language_info": {
   "codemirror_mode": {
    "name": "ipython",
    "version": 3
   },
   "file_extension": ".py",
   "mimetype": "text/x-python",
   "name": "python",
   "nbconvert_exporter": "python",
   "pygments_lexer": "ipython3",
   "version": "3.12.9"
  }
 },
 "nbformat": 4,
 "nbformat_minor": 5
}
