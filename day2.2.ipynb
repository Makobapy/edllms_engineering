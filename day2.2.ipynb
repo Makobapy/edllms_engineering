{
 "cells": [
  {
   "cell_type": "code",
   "execution_count": null,
   "id": "b578be4b-dfab-4118-8c2a-ebe2329cc2f1",
   "metadata": {},
   "outputs": [],
   "source": [
    "import os\n",
    "import requests\n",
    "from bs4 import BeautifulSoup\n",
    "from IPython.display import Markdown,display\n",
    "from openai import OpenAI\n",
    "\n",
    "\"\"\"header={\"User-Agent\":\"Mozilla/5.0 (X11; Linux x86_64) AppleWebKit/537.36 (KHTML, like Gecko)\\\n",
    "            Chrome/133.0.0.0 Safari/537.36\"}\n",
    "            \"\"\"\n",
    "header={\"Content-Type\":\"Application/json\"}\n",
    "\n",
    "class Website:\n",
    "    def __init__(self,url):\n",
    "        self.url=url\n",
    "        #retrieve the website using the html with header info required on title,text elimination the irrelevant\n",
    "        response=requests.get(url,headers=header)\n",
    "        print(f\"Status Code: {response.status_code}\")  # Should be 200\n",
    "        print(f\"Page Content:\\n{response.text[:500]}\")  # Show first 500 chars\n",
    "        \n",
    "        soup=BeautifulSoup(response.content,'html.parser')\n",
    "                \n",
    "        self.title=soup.title.string if soup.title else \"No title of the website\"\n",
    "        for unnecessary in soup.body([\"script\",\"style\",\"img\"]):\n",
    "            unnecessary.decompose()\n",
    "            \n",
    "        self.text=soup.body.get_text(separator=\"\\n\" ,strip=True) if soup.body else \"No body-text of website\"\n",
    "        \n",
    "#creating an object for the website\n",
    "code=Website(\"https://edwarddonner.com\")\n"
   ]
  },
  {
   "cell_type": "code",
   "execution_count": null,
   "id": "dc0c0289-f823-431c-834e-b4793fa47384",
   "metadata": {},
   "outputs": [],
   "source": [
    "system_prompt=\"i need your help in categorising the website of the industrial sector basing on its sectors and all its involved in \"\n",
    "\n",
    "def user_prompt_ed(code):\n",
    "    user_prompt=f\"The generated title is {code.title}\"\n",
    "    user_prompt +=\"retrieve all the necessary information creating a summary of the important notes \\\n",
    "                with all the necessary contact information of each summarised sector \\\n",
    "                an easy means of how to make a events in calendar \\n\"\n",
    "    user_prompt +=code.text\n",
    "    return user_prompt"
   ]
  },
  {
   "cell_type": "code",
   "execution_count": null,
   "id": "e1b4f398-d5f1-442e-a160-5700950e40d6",
   "metadata": {},
   "outputs": [],
   "source": [
    "def messages_ed(code):\n",
    "    messages=[\n",
    "        {\"role\":\"user\" ,\"content\":user_prompt_ed(code)},\n",
    "        {\"role\":\"system\" ,\"content\":system_prompt}\n",
    "    ]\n",
    "    return messages\n",
    "    "
   ]
  },
  {
   "cell_type": "code",
   "execution_count": null,
   "id": "7dc808ed-15c1-47f9-98d0-2d1ccae15168",
   "metadata": {},
   "outputs": [],
   "source": [
    "payload={\n",
    "    \"model\":\"llama3.2\",\n",
    "    \"messages\":messages_ed(code),\n",
    "    \"stream\":False\n",
    "}"
   ]
  },
  {
   "cell_type": "code",
   "execution_count": null,
   "id": "90f4e777-a323-487c-a5bd-936708f239ce",
   "metadata": {},
   "outputs": [],
   "source": [
    "\"\"\"\n",
    "def bronchure(code):\n",
    "    ollama_via_openai=OpenAI(base_url=\"http://localhost:11434/v1\",api_key=\"ollama\")\n",
    "    response=ollama_via_openai.chat.completions.create(model=\"llama3.2\" ,messages=messages_ed(code))\n",
    "    return response.choices[0].message.content   \n",
    "print(response\n",
    "\"\"\""
   ]
  },
  {
   "cell_type": "code",
   "execution_count": null,
   "id": "654f204d-c435-4ffa-b7e7-2d17712615bc",
   "metadata": {},
   "outputs": [],
   "source": [
    "import ollama\n",
    "\n",
    "response=ollama.chat(model=\"llama3.2\" , messages=messages_ed(code) )\n",
    "print(response['message']['content'])\n"
   ]
  },
  {
   "cell_type": "code",
   "execution_count": null,
   "id": "6226970e-7859-4e16-a032-67881aedc90e",
   "metadata": {},
   "outputs": [],
   "source": [
    "def bronchure(code):\n",
    "    try:\n",
    "        ollama_via_openai = OpenAI(base_url=\"http://localhost:11434/v1\", api_key=\"ollama\")\n",
    "        response = ollama_via_openai.chat.completions.create(model=\"llama3.2\", messages=messages_ed(code))\n",
    "        return response.choices[0].message.content\n",
    "    except Exception as e:\n",
    "        return f\"Error: {e}\"\n",
    "\n",
    "code_ed = bronchure(code)\n",
    "display(Markdown(code_ed))"
   ]
  },
  {
   "cell_type": "code",
   "execution_count": null,
   "id": "b60ab38a-455c-449b-b518-59fbf45f682d",
   "metadata": {},
   "outputs": [],
   "source": [
    "MODEL_API=\"http://localhost:11434/api/chat\" \n",
    "HEADER={\"Content-Type\":\"application/json\"}\n",
    "response=requests.post(MODEL_API, json=payload ,headers=header)\n",
    "code_ed=response.json()['message']['content']\n",
    "print(display(Markdown(code_ed)))"
   ]
  },
  {
   "cell_type": "code",
   "execution_count": null,
   "id": "08c9f964-105d-4168-a0a7-36f9210bfbfe",
   "metadata": {},
   "outputs": [],
   "source": [
    "system_prompt = \"I need your help in categorising the website of the industrial sector basing on its sectors and all its involved in\"\n",
    "\n",
    "def user_prompt_ed(code):\n",
    "    user_prompt = f\"The generated title is {code.title}\\n\"\n",
    "    user_prompt += \"retrieve all the necessary information creating a summary of the important notes \\\\\\n\"\n",
    "    user_prompt += \"with all the necessary contact information of each summarised sector \\\\\\n\"\n",
    "    user_prompt += \"an easy means of how to make a events in calendar \\n\"\n",
    "    user_prompt += code.text\n",
    "    return user_prompt\n",
    "\n",
    "def messages_ed(code):\n",
    "    messages = [\n",
    "        {\"role\": \"user\", \"content\": user_prompt_ed(code)},\n",
    "        {\"role\": \"system\", \"content\": system_prompt}\n",
    "    ]\n",
    "    return messages\n",
    "\n",
    "def bronchure(code):\n",
    "    try:\n",
    "        ollama_via_openai = OpenAI(base_url=\"http://localhost:11434/v1\", api_key=\"ollama\")\n",
    "        response = ollama_via_openai.chat.completions.create(model=\"llama3.2\", messages=messages_ed(code))\n",
    "        return response.choices[0].message.content\n",
    "    except Exception as e:\n",
    "        return f\"Error: {e}\"\n",
    "\n",
    "code_ed = bronchure(code)\n",
    "display(Markdown(code_ed))"
   ]
  },
  {
   "cell_type": "code",
   "execution_count": null,
   "id": "c19c16ca-0fad-4380-ba68-58c67c58d3dd",
   "metadata": {},
   "outputs": [],
   "source": []
  }
 ],
 "metadata": {
  "kernelspec": {
   "display_name": "edllms (conda)",
   "language": "python",
   "name": "edllms"
  },
  "language_info": {
   "codemirror_mode": {
    "name": "ipython",
    "version": 3
   },
   "file_extension": ".py",
   "mimetype": "text/x-python",
   "name": "python",
   "nbconvert_exporter": "python",
   "pygments_lexer": "ipython3",
   "version": "3.12.9"
  }
 },
 "nbformat": 4,
 "nbformat_minor": 5
}
